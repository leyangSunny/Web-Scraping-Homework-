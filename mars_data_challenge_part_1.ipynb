{
 "cells": [
  {
   "cell_type": "code",
   "execution_count": 55,
   "metadata": {
    "collapsed": true
   },
   "outputs": [],
   "source": [
    "from splinter import Browser\n",
    "from bs4 import BeautifulSoup\n",
    "from webdriver_manager.chrome import ChromeDriverManager\n",
    "\n",
    "\n",
    "\n"
   ]
  },
  {
   "cell_type": "code",
   "execution_count": 56,
   "metadata": {
    "collapsed": true
   },
   "outputs": [],
   "source": [
    "executable_path = {'executable_path': ChromeDriverManager().install()}\n",
    "browser = Browser('chrome', **executable_path, headless=False)"
   ]
  },
  {
   "cell_type": "code",
   "execution_count": 57,
   "metadata": {
    "collapsed": true
   },
   "outputs": [],
   "source": [
    "url = 'https://redplanetscience.com/'\n",
    "browser.visit(url)"
   ]
  },
  {
   "cell_type": "code",
   "execution_count": 58,
   "metadata": {},
   "outputs": [],
   "source": [
    "html = browser.html\n",
    "soup = BeautifulSoup(html, 'html.parser')\n",
    "\n",
    "side_title = soup.find_all(\"div\", class_='content_title')\n",
    "side_preview = soup.find_all(\"div\", class_='article_teaser_body')\n",
    "\n"
   ]
  },
  {
   "cell_type": "code",
   "execution_count": 63,
   "metadata": {},
   "outputs": [
    {
     "data": {
      "text/html": [
       "<div>\n",
       "<style scoped>\n",
       "    .dataframe tbody tr th:only-of-type {\n",
       "        vertical-align: middle;\n",
       "    }\n",
       "\n",
       "    .dataframe tbody tr th {\n",
       "        vertical-align: top;\n",
       "    }\n",
       "\n",
       "    .dataframe thead th {\n",
       "        text-align: right;\n",
       "    }\n",
       "</style>\n",
       "<table border=\"1\" class=\"dataframe\">\n",
       "  <thead>\n",
       "    <tr style=\"text-align: right;\">\n",
       "      <th></th>\n",
       "      <th>0</th>\n",
       "      <th>1</th>\n",
       "    </tr>\n",
       "  </thead>\n",
       "  <tbody>\n",
       "    <tr>\n",
       "      <th>0</th>\n",
       "      <td>[Follow NASA's Perseverance Rover in Real Time...</td>\n",
       "      <td>[A crisply rendered web application can show y...</td>\n",
       "    </tr>\n",
       "    <tr>\n",
       "      <th>1</th>\n",
       "      <td>[NASA Perseverance Mars Rover Scientists Train...</td>\n",
       "      <td>[Team members searched for signs of ancient mi...</td>\n",
       "    </tr>\n",
       "    <tr>\n",
       "      <th>2</th>\n",
       "      <td>[NASA's Mars Perseverance Rover Passes Flight ...</td>\n",
       "      <td>[​The agency's Mars 2020 mission has one more ...</td>\n",
       "    </tr>\n",
       "    <tr>\n",
       "      <th>3</th>\n",
       "      <td>[NASA's New Mars Rover Is Ready for Space Lasers]</td>\n",
       "      <td>[Perseverance is one of a few Mars spacecraft ...</td>\n",
       "    </tr>\n",
       "    <tr>\n",
       "      <th>4</th>\n",
       "      <td>[NASA's Mars 2020 Rover Completes Its First Dr...</td>\n",
       "      <td>[In a 10-plus-hour marathon, the rover steered...</td>\n",
       "    </tr>\n",
       "    <tr>\n",
       "      <th>5</th>\n",
       "      <td>[AI Is Helping Scientists Discover Fresh Crate...</td>\n",
       "      <td>[It's the first time machine learning has been...</td>\n",
       "    </tr>\n",
       "    <tr>\n",
       "      <th>6</th>\n",
       "      <td>[NASA Invites Public to Share Excitement of Ma...</td>\n",
       "      <td>[There are lots of ways to participate in the ...</td>\n",
       "    </tr>\n",
       "    <tr>\n",
       "      <th>7</th>\n",
       "      <td>[7 Things to Know About the Mars 2020 Persever...</td>\n",
       "      <td>[NASA's next rover to the Red Planet is slated...</td>\n",
       "    </tr>\n",
       "    <tr>\n",
       "      <th>8</th>\n",
       "      <td>[NASA's Mars 2020 Rover Closer to Getting Its ...</td>\n",
       "      <td>[155 students from across the U.S. have been c...</td>\n",
       "    </tr>\n",
       "    <tr>\n",
       "      <th>9</th>\n",
       "      <td>[NASA Adds Return Sample Scientists to Mars 20...</td>\n",
       "      <td>[The leadership council for Mars 2020 science ...</td>\n",
       "    </tr>\n",
       "    <tr>\n",
       "      <th>10</th>\n",
       "      <td>[The Man Who Wanted to Fly on Mars]</td>\n",
       "      <td>[The Mars Helicopter is riding to the Red Plan...</td>\n",
       "    </tr>\n",
       "    <tr>\n",
       "      <th>11</th>\n",
       "      <td>[Robotic Toolkit Added to NASA's Mars 2020 Rover]</td>\n",
       "      <td>[The bit carousel, which lies at the heart of ...</td>\n",
       "    </tr>\n",
       "    <tr>\n",
       "      <th>12</th>\n",
       "      <td>[NASA's Curiosity Rover Finds an Ancient Oasis...</td>\n",
       "      <td>[New evidence suggests salty, shallow ponds on...</td>\n",
       "    </tr>\n",
       "    <tr>\n",
       "      <th>13</th>\n",
       "      <td>[NASA Moves Forward With Campaign to Return Ma...</td>\n",
       "      <td>[During this next phase, the program will matu...</td>\n",
       "    </tr>\n",
       "    <tr>\n",
       "      <th>14</th>\n",
       "      <td>[Sensors on Mars 2020 Spacecraft Answer Long-D...</td>\n",
       "      <td>[Instruments tailored to collect data during t...</td>\n",
       "    </tr>\n",
       "  </tbody>\n",
       "</table>\n",
       "</div>"
      ],
      "text/plain": [
       "                                                    0  \\\n",
       "0   [Follow NASA's Perseverance Rover in Real Time...   \n",
       "1   [NASA Perseverance Mars Rover Scientists Train...   \n",
       "2   [NASA's Mars Perseverance Rover Passes Flight ...   \n",
       "3   [NASA's New Mars Rover Is Ready for Space Lasers]   \n",
       "4   [NASA's Mars 2020 Rover Completes Its First Dr...   \n",
       "5   [AI Is Helping Scientists Discover Fresh Crate...   \n",
       "6   [NASA Invites Public to Share Excitement of Ma...   \n",
       "7   [7 Things to Know About the Mars 2020 Persever...   \n",
       "8   [NASA's Mars 2020 Rover Closer to Getting Its ...   \n",
       "9   [NASA Adds Return Sample Scientists to Mars 20...   \n",
       "10                [The Man Who Wanted to Fly on Mars]   \n",
       "11  [Robotic Toolkit Added to NASA's Mars 2020 Rover]   \n",
       "12  [NASA's Curiosity Rover Finds an Ancient Oasis...   \n",
       "13  [NASA Moves Forward With Campaign to Return Ma...   \n",
       "14  [Sensors on Mars 2020 Spacecraft Answer Long-D...   \n",
       "\n",
       "                                                    1  \n",
       "0   [A crisply rendered web application can show y...  \n",
       "1   [Team members searched for signs of ancient mi...  \n",
       "2   [​The agency's Mars 2020 mission has one more ...  \n",
       "3   [Perseverance is one of a few Mars spacecraft ...  \n",
       "4   [In a 10-plus-hour marathon, the rover steered...  \n",
       "5   [It's the first time machine learning has been...  \n",
       "6   [There are lots of ways to participate in the ...  \n",
       "7   [NASA's next rover to the Red Planet is slated...  \n",
       "8   [155 students from across the U.S. have been c...  \n",
       "9   [The leadership council for Mars 2020 science ...  \n",
       "10  [The Mars Helicopter is riding to the Red Plan...  \n",
       "11  [The bit carousel, which lies at the heart of ...  \n",
       "12  [New evidence suggests salty, shallow ponds on...  \n",
       "13  [During this next phase, the program will matu...  \n",
       "14  [Instruments tailored to collect data during t...  "
      ]
     },
     "metadata": {},
     "output_type": "display_data"
    }
   ],
   "source": [
    "side_complete =pd.DataFrame(list(zip(side_title,side_preview)))\n",
    "display(side_complete)\n"
   ]
  }
 ],
 "metadata": {
  "kernelspec": {
   "display_name": "Python 3.9.12 ('base')",
   "language": "python",
   "name": "python3"
  },
  "language_info": {
   "codemirror_mode": {
    "name": "ipython",
    "version": 3
   },
   "file_extension": ".py",
   "mimetype": "text/x-python",
   "name": "python",
   "nbconvert_exporter": "python",
   "pygments_lexer": "ipython3",
   "version": "3.9.12"
  },
  "varInspector": {
   "cols": {
    "lenName": 16,
    "lenType": 16,
    "lenVar": 40
   },
   "kernels_config": {
    "python": {
     "delete_cmd_postfix": "",
     "delete_cmd_prefix": "del ",
     "library": "var_list.py",
     "varRefreshCmd": "print(var_dic_list())"
    },
    "r": {
     "delete_cmd_postfix": ") ",
     "delete_cmd_prefix": "rm(",
     "library": "var_list.r",
     "varRefreshCmd": "cat(var_dic_list()) "
    }
   },
   "types_to_exclude": [
    "module",
    "function",
    "builtin_function_or_method",
    "instance",
    "_Feature"
   ],
   "window_display": false
  },
  "vscode": {
   "interpreter": {
    "hash": "9e11ff03c3d7a6d9a888ed4ef647cd738e039622a63f29cabca2a9b3eea5d4e0"
   }
  }
 },
 "nbformat": 4,
 "nbformat_minor": 2
}
